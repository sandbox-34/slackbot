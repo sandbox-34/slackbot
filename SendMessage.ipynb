{
 "cells": [
  {
   "cell_type": "code",
   "execution_count": 30,
   "metadata": {},
   "outputs": [
    {
     "name": "stdout",
     "output_type": "stream",
     "text": [
      "{'C04AVGX2PA6': 'jackson-test'}\n",
      "['U02SWAYMZ3N']\n",
      "{'ok': True, 'channel': 'D04AMDZGDD1', 'ts': '1668452040.225789', 'message': {'bot_id': 'B04A710FVLP', 'type': 'message', 'text': 'Hey Jackson! \\nThis is a test message', 'user': 'U04AQ142VKN', 'ts': '1668452040.225789', 'app_id': 'A04B06383UH', 'blocks': [{'type': 'rich_text', 'block_id': 'xC1N', 'elements': [{'type': 'rich_text_section', 'elements': [{'type': 'text', 'text': 'Hey Jackson! \\nThis is a test message'}]}]}], 'team': 'T02THPULCD6', 'bot_profile': {'id': 'B04A710FVLP', 'app_id': 'A04B06383UH', 'name': 'Demo App', 'icons': {'image_36': 'https://a.slack-edge.com/80588/img/plugins/app/bot_36.png', 'image_48': 'https://a.slack-edge.com/80588/img/plugins/app/bot_48.png', 'image_72': 'https://a.slack-edge.com/80588/img/plugins/app/service_72.png'}, 'deleted': False, 'updated': 1668205433, 'team_id': 'T02THPULCD6'}}}\n"
     ]
    }
   ],
   "source": [
    "import os\n",
    "from slack_sdk import WebClient\n",
    "from slack_sdk.errors import SlackApiError\n",
    "\n",
    "client = WebClient(token=os.environ['SLACK_HLC_TOKEN'])\n",
    "\n",
    "def getAllChannels():\n",
    "    try:\n",
    "        result = client.conversations_list()\n",
    "        channels = []\n",
    "        for channel in result[\"channels\"]:\n",
    "            channels.append({channel[\"id\"]: channel[\"name\"]})\n",
    "        return channels\n",
    "\n",
    "    except SlackApiError as e:\n",
    "        # You will get a SlackApiError if \"ok\" is False\n",
    "        assert e.response[\"ok\"] is False\n",
    "        assert e.response[\"error\"]  # str like 'invalid_auth', 'channel_not_found'\n",
    "        print(f\"Got an error: {e.response['error']}\")\n",
    "\n",
    "def getMembersInChannel(channelId):\n",
    "    try:\n",
    "        response = client.conversations_members(channel=channelId)\n",
    "        return response['members']\n",
    "    except SlackApiError as e:\n",
    "        # You will get a SlackApiError if \"ok\" is False\n",
    "        assert e.response[\"ok\"] is False\n",
    "        assert e.response[\"error\"]  # str like 'invalid_auth', 'channel_not_found'\n",
    "        print(f\"Got an error: {e.response['error']}\")\n",
    "\n",
    "def getAllUsers():\n",
    "    try:\n",
    "        result = client.users_list()\n",
    "        users = []\n",
    "        for user in result[\"members\"]:\n",
    "            users.append({user[\"id\"]: user[\"name\"]})\n",
    "        return users\n",
    "\n",
    "    except SlackApiError as e:\n",
    "        # You will get a SlackApiError if \"ok\" is False\n",
    "        assert e.response[\"ok\"] is False\n",
    "        assert e.response[\"error\"]  # str like 'invalid_auth', 'channel_not_found'\n",
    "        print(f\"Got an error: {e.response['error']}\")\n",
    "\n",
    "def getUserInfo(userId):\n",
    "    try:\n",
    "        response = client.users_info(user=userId)\n",
    "        return response['user']\n",
    "    except SlackApiError as e:\n",
    "        # You will get a SlackApiError if \"ok\" is False\n",
    "        assert e.response[\"ok\"] is False\n",
    "        assert e.response[\"error\"]  # str like 'invalid_auth', 'channel_not_found'\n",
    "        print(f\"Got an error: {e.response['error']}\")\n",
    "\n",
    "def sendMessage (channelList, message):\n",
    "    try:\n",
    "        for channelName in channelList:\n",
    "            userInfo = getUserInfo(channelName)\n",
    "            message = 'Hey ' + userInfo['profile']['first_name'] + '! ' + message\n",
    "            # response = client.chat_postMessage(channel=channelName, text=\"Hello User: \" + str(channelName))\n",
    "            response = client.chat_postMessage(channel=channelName, text=message)\n",
    "        print(response)\n",
    "        # assert response[\"message\"][\"text\"] == \"Hello world!\"\n",
    "    except SlackApiError as e:\n",
    "        # You will get a SlackApiError if \"ok\" is False\n",
    "        assert e.response[\"ok\"] is False\n",
    "        assert e.response[\"error\"]  # str like 'invalid_auth', 'channel_not_found'\n",
    "        print(f\"Got an error: {e.response['error']}\")\n",
    "\n",
    "# TODO put in the channel name you want to look up and the message you want to send here:\n",
    "    # The message will be appended to a text that says \"Hey <first_name>, <message>\". You can change that in the \"sendMessage\" function\n",
    "channelNameToLookup = \"jackson-test\"\n",
    "message = \"\\nThis is a test message\"\n",
    "\n",
    "channelInfo = [channel for channel in getAllChannels() if channelNameToLookup in channel.values()][0]\n",
    "channelMembers = getMembersInChannel(list(channelInfo.keys())[0])\n",
    "\n",
    "# TODO UNCOMMENT THE NEXT LINE WHEN YOU ARE READY TO SEND THE MESSAGE\n",
    "sendMessage(channelMembers, message)"
   ]
  }
 ],
 "metadata": {
  "kernelspec": {
   "display_name": "Python 3.10.8 64-bit (microsoft store)",
   "language": "python",
   "name": "python3"
  },
  "language_info": {
   "codemirror_mode": {
    "name": "ipython",
    "version": 3
   },
   "file_extension": ".py",
   "mimetype": "text/x-python",
   "name": "python",
   "nbconvert_exporter": "python",
   "pygments_lexer": "ipython3",
   "version": "3.10.8"
  },
  "orig_nbformat": 4,
  "vscode": {
   "interpreter": {
    "hash": "5917d68b361d93c9f63fc1732d697117b39cb60718a5b847a066c4975ceb8006"
   }
  }
 },
 "nbformat": 4,
 "nbformat_minor": 2
}
