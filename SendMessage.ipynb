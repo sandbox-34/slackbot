{
 "cells": [
  {
   "cell_type": "code",
   "execution_count": 9,
   "metadata": {},
   "outputs": [
    {
     "name": "stdout",
     "output_type": "stream",
     "text": [
      "{'ok': True, 'channel': 'D04AMDZGDD1', 'ts': '1668209404.372159', 'message': {'bot_id': 'B04A710FVLP', 'type': 'message', 'text': 'Hello User: U02SWAYMZ3N', 'user': 'U04AQ142VKN', 'ts': '1668209404.372159', 'app_id': 'A04B06383UH', 'blocks': [{'type': 'rich_text', 'block_id': '4azC', 'elements': [{'type': 'rich_text_section', 'elements': [{'type': 'text', 'text': 'Hello User: U02SWAYMZ3N'}]}]}], 'team': 'T02THPULCD6', 'bot_profile': {'id': 'B04A710FVLP', 'app_id': 'A04B06383UH', 'name': 'Demo App', 'icons': {'image_36': 'https://a.slack-edge.com/80588/img/plugins/app/bot_36.png', 'image_48': 'https://a.slack-edge.com/80588/img/plugins/app/bot_48.png', 'image_72': 'https://a.slack-edge.com/80588/img/plugins/app/service_72.png'}, 'deleted': False, 'updated': 1668205433, 'team_id': 'T02THPULCD6'}}}\n"
     ]
    }
   ],
   "source": [
    "import os\n",
    "from slack_sdk import WebClient\n",
    "from slack_sdk.errors import SlackApiError\n",
    "\n",
    "client = WebClient(token=os.environ['SLACK_HLC_TOKEN'])\n",
    "\n",
    "try:\n",
    "    users = ['U02SWAYMZ3N', 'U02SWAYMZ3N','U02SWAYMZ3N', 'U02SWAYMZ3N', 'U02SWAYMZ3N']\n",
    "    for user in users:\n",
    "        response = client.chat_postMessage(channel=user, text=\"Hello User: \" + str(user))\n",
    "    print(response)\n",
    "    # assert response[\"message\"][\"text\"] == \"Hello world!\"\n",
    "except SlackApiError as e:\n",
    "    # You will get a SlackApiError if \"ok\" is False\n",
    "    assert e.response[\"ok\"] is False\n",
    "    assert e.response[\"error\"]  # str like 'invalid_auth', 'channel_not_found'\n",
    "    print(f\"Got an error: {e.response['error']}\")\n"
   ]
  },
  {
   "cell_type": "code",
   "execution_count": 8,
   "metadata": {},
   "outputs": [],
   "source": [
    "import os\n",
    "os.environ['SLACK_HLC_TOKEN'] = '<YOUR TOKEN HERE>'\n"
   ]
  }
 ],
 "metadata": {
  "kernelspec": {
   "display_name": "Python 3.8.5 64-bit",
   "language": "python",
   "name": "python3"
  },
  "language_info": {
   "codemirror_mode": {
    "name": "ipython",
    "version": 3
   },
   "file_extension": ".py",
   "mimetype": "text/x-python",
   "name": "python",
   "nbconvert_exporter": "python",
   "pygments_lexer": "ipython3",
   "version": "3.8.5"
  },
  "orig_nbformat": 4,
  "vscode": {
   "interpreter": {
    "hash": "be575bd05407505c449886175499cd101ed08798d79f3872c8d29f688ac5d5c9"
   }
  }
 },
 "nbformat": 4,
 "nbformat_minor": 2
}
