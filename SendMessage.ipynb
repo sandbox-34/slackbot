{
 "cells": [
  {
   "cell_type": "code",
   "execution_count": 18,
   "metadata": {},
   "outputs": [
    {
     "data": {
      "text/plain": [
       "[{'USLACKBOT': 'slackbot'},\n",
       " {'U02SRHQ0A5D': 'spencerfarley'},\n",
       " {'U02SWAYMZ3N': 'jvande16'},\n",
       " {'U02SWPMQJN9': 'tiflyon'},\n",
       " {'U02T2KFTCHJ': 'mitchell.wilde97'},\n",
       " {'U02T5JE802W': 'rachelmarie5825'},\n",
       " {'U02TCTQ5WRF': 'moreyrachel'},\n",
       " {'U02TP5LT9N1': 'tina.trimble'},\n",
       " {'U030099QZHN': 'zoom'},\n",
       " {'U0308A2TBU4': 'emilyvelanelson'},\n",
       " {'U035N5UJXNC': 'schulz.claire'},\n",
       " {'U03KECBJ0NT': 'julia.g.moorhead'},\n",
       " {'U03U69R7Q6B': 'makaylawhetsel18'},\n",
       " {'U04AQ142VKN': 'demo_app'}]"
      ]
     },
     "execution_count": 18,
     "metadata": {},
     "output_type": "execute_result"
    }
   ],
   "source": [
    "import os\n",
    "from slack_sdk import WebClient\n",
    "from slack_sdk.errors import SlackApiError\n",
    "\n",
    "client = WebClient(token=os.environ['SLACK_HLC_TOKEN'])\n",
    "\n",
    "def getAllChannels():\n",
    "    try:\n",
    "        result = client.conversations_list()\n",
    "        channels = []\n",
    "        for channel in result[\"channels\"]:\n",
    "            channels.append({channel[\"id\"]: channel[\"name\"]})\n",
    "        return channels\n",
    "\n",
    "    except SlackApiError as e:\n",
    "        # You will get a SlackApiError if \"ok\" is False\n",
    "        assert e.response[\"ok\"] is False\n",
    "        assert e.response[\"error\"]  # str like 'invalid_auth', 'channel_not_found'\n",
    "        print(f\"Got an error: {e.response['error']}\")\n",
    "\n",
    "def getMembersInChannel(channelId):\n",
    "    try:\n",
    "        response = client.conversations_members(channel=channelId)\n",
    "        return response['members']\n",
    "    except SlackApiError as e:\n",
    "        # You will get a SlackApiError if \"ok\" is False\n",
    "        assert e.response[\"ok\"] is False\n",
    "        assert e.response[\"error\"]  # str like 'invalid_auth', 'channel_not_found'\n",
    "        print(f\"Got an error: {e.response['error']}\")\n",
    "\n",
    "def getAllUsers():\n",
    "    try:\n",
    "        result = client.users_list()\n",
    "        users = []\n",
    "        for user in result[\"members\"]:\n",
    "            users.append({user[\"id\"]: user[\"name\"]})\n",
    "        return users\n",
    "\n",
    "    except SlackApiError as e:\n",
    "        # You will get a SlackApiError if \"ok\" is False\n",
    "        assert e.response[\"ok\"] is False\n",
    "        assert e.response[\"error\"]  # str like 'invalid_auth', 'channel_not_found'\n",
    "        print(f\"Got an error: {e.response['error']}\")\n",
    "\n",
    "def sendMessage (channelList, message):\n",
    "    try:\n",
    "        # users = ['U02SWAYMZ3N', 'U02SWAYMZ3N','U02SWAYMZ3N', 'U02SWAYMZ3N', 'U02SWAYMZ3N']\n",
    "        for channelName in channelList:\n",
    "            response = client.chat_postMessage(channel=channelName, text=\"Hello User: \" + str(channelName))\n",
    "        print(response)\n",
    "        # assert response[\"message\"][\"text\"] == \"Hello world!\"\n",
    "    except SlackApiError as e:\n",
    "        # You will get a SlackApiError if \"ok\" is False\n",
    "        assert e.response[\"ok\"] is False\n",
    "        assert e.response[\"error\"]  # str like 'invalid_auth', 'channel_not_found'\n",
    "        print(f\"Got an error: {e.response['error']}\")\n",
    "\n",
    "\n",
    "# getAllChannels()\n",
    "# getMembersInChannel('C02SMBM152A')\n",
    "# getAllUsers()\n",
    "# sendMessage(['U02SWAYMZ3N', 'U02SWAYMZ3N','U02SWAYMZ3N', 'U02SWAYMZ3N', 'U02SWAYMZ3N'], 'Hello World')"
   ]
  },
  {
   "cell_type": "code",
   "execution_count": 2,
   "metadata": {},
   "outputs": [],
   "source": [
    "import os\n",
    "os.environ['SLACK_HLC_TOKEN'] = '<YOUR TOKEN HERE>'\n"
   ]
  }
 ],
 "metadata": {
  "kernelspec": {
   "display_name": "Python 3.8.5 64-bit",
   "language": "python",
   "name": "python3"
  },
  "language_info": {
   "codemirror_mode": {
    "name": "ipython",
    "version": 3
   },
   "file_extension": ".py",
   "mimetype": "text/x-python",
   "name": "python",
   "nbconvert_exporter": "python",
   "pygments_lexer": "ipython3",
   "version": "3.8.5"
  },
  "orig_nbformat": 4,
  "vscode": {
   "interpreter": {
    "hash": "be575bd05407505c449886175499cd101ed08798d79f3872c8d29f688ac5d5c9"
   }
  }
 },
 "nbformat": 4,
 "nbformat_minor": 2
}
